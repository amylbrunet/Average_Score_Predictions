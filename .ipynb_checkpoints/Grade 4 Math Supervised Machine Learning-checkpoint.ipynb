{
 "cells": [
  {
   "cell_type": "code",
   "execution_count": 1,
   "id": "d9fde982",
   "metadata": {},
   "outputs": [],
   "source": [
    "# Importing libraries.\n",
    "\n",
    "import pandas as pd\n",
    "import numpy as np  \n",
    "import matplotlib.pyplot as plt  \n",
    "%matplotlib inline"
   ]
  },
  {
   "cell_type": "code",
   "execution_count": 2,
   "id": "95a44d26",
   "metadata": {},
   "outputs": [],
   "source": [
    "grade_4_math = pd.read_csv('input_data/grade_4_math_all_years.csv')"
   ]
  },
  {
   "cell_type": "code",
   "execution_count": 3,
   "id": "93e498c4",
   "metadata": {},
   "outputs": [
    {
     "name": "stdout",
     "output_type": "stream",
     "text": [
      "<class 'pandas.core.frame.DataFrame'>\n",
      "RangeIndex: 561 entries, 0 to 560\n",
      "Data columns (total 5 columns):\n",
      " #   Column           Non-Null Count  Dtype  \n",
      "---  ------           --------------  -----  \n",
      " 0   year             561 non-null    int64  \n",
      " 1   state            561 non-null    object \n",
      " 2   poverty_percent  561 non-null    float64\n",
      " 3   median_income    561 non-null    int64  \n",
      " 4   average_score    561 non-null    object \n",
      "dtypes: float64(1), int64(2), object(2)\n",
      "memory usage: 22.0+ KB\n"
     ]
    }
   ],
   "source": [
    "grade_4_math.info()"
   ]
  },
  {
   "cell_type": "code",
   "execution_count": 68,
   "id": "284558be",
   "metadata": {},
   "outputs": [
    {
     "name": "stdout",
     "output_type": "stream",
     "text": [
      "<class 'pandas.core.frame.DataFrame'>\n",
      "RangeIndex: 561 entries, 0 to 560\n",
      "Data columns (total 5 columns):\n",
      " #   Column           Non-Null Count  Dtype  \n",
      "---  ------           --------------  -----  \n",
      " 0   year             561 non-null    int64  \n",
      " 1   state            561 non-null    object \n",
      " 2   poverty_percent  561 non-null    float64\n",
      " 3   median_income    561 non-null    int64  \n",
      " 4   average_score    544 non-null    float64\n",
      "dtypes: float64(2), int64(2), object(1)\n",
      "memory usage: 22.0+ KB\n"
     ]
    }
   ],
   "source": [
    "grade_4_math['average_score'] = grade_4_math['average_score'].apply(pd.to_numeric, errors = 'coerce')\n",
    "grade_4_math.info()"
   ]
  },
  {
   "cell_type": "code",
   "execution_count": 69,
   "id": "d03910de",
   "metadata": {},
   "outputs": [
    {
     "name": "stdout",
     "output_type": "stream",
     "text": [
      "<class 'pandas.core.frame.DataFrame'>\n",
      "RangeIndex: 561 entries, 0 to 560\n",
      "Data columns (total 5 columns):\n",
      " #   Column           Non-Null Count  Dtype  \n",
      "---  ------           --------------  -----  \n",
      " 0   year             561 non-null    int64  \n",
      " 1   state            561 non-null    object \n",
      " 2   poverty_percent  561 non-null    float64\n",
      " 3   median_income    561 non-null    float64\n",
      " 4   average_score    544 non-null    float64\n",
      "dtypes: float64(3), int64(1), object(1)\n",
      "memory usage: 22.0+ KB\n"
     ]
    }
   ],
   "source": [
    "grade_4_math['median_income'] = grade_4_math['median_income'].astype(float)\n",
    "grade_4_math.info()"
   ]
  },
  {
   "cell_type": "code",
   "execution_count": 70,
   "id": "e1722436",
   "metadata": {},
   "outputs": [
    {
     "data": {
      "text/html": [
       "<div>\n",
       "<style scoped>\n",
       "    .dataframe tbody tr th:only-of-type {\n",
       "        vertical-align: middle;\n",
       "    }\n",
       "\n",
       "    .dataframe tbody tr th {\n",
       "        vertical-align: top;\n",
       "    }\n",
       "\n",
       "    .dataframe thead th {\n",
       "        text-align: right;\n",
       "    }\n",
       "</style>\n",
       "<table border=\"1\" class=\"dataframe\">\n",
       "  <thead>\n",
       "    <tr style=\"text-align: right;\">\n",
       "      <th></th>\n",
       "      <th>year</th>\n",
       "      <th>state</th>\n",
       "      <th>poverty_percent</th>\n",
       "      <th>median_income</th>\n",
       "      <th>average_score</th>\n",
       "    </tr>\n",
       "  </thead>\n",
       "  <tbody>\n",
       "    <tr>\n",
       "      <th>0</th>\n",
       "      <td>2019</td>\n",
       "      <td>Alabama</td>\n",
       "      <td>15.6</td>\n",
       "      <td>51771.0</td>\n",
       "      <td>230.0</td>\n",
       "    </tr>\n",
       "    <tr>\n",
       "      <th>1</th>\n",
       "      <td>2019</td>\n",
       "      <td>Alaska</td>\n",
       "      <td>10.2</td>\n",
       "      <td>77203.0</td>\n",
       "      <td>232.0</td>\n",
       "    </tr>\n",
       "    <tr>\n",
       "      <th>2</th>\n",
       "      <td>2019</td>\n",
       "      <td>Arizona</td>\n",
       "      <td>13.5</td>\n",
       "      <td>62027.0</td>\n",
       "      <td>238.0</td>\n",
       "    </tr>\n",
       "    <tr>\n",
       "      <th>3</th>\n",
       "      <td>2019</td>\n",
       "      <td>Arkansas</td>\n",
       "      <td>16.0</td>\n",
       "      <td>49020.0</td>\n",
       "      <td>233.0</td>\n",
       "    </tr>\n",
       "    <tr>\n",
       "      <th>4</th>\n",
       "      <td>2019</td>\n",
       "      <td>California</td>\n",
       "      <td>11.8</td>\n",
       "      <td>80423.0</td>\n",
       "      <td>235.0</td>\n",
       "    </tr>\n",
       "  </tbody>\n",
       "</table>\n",
       "</div>"
      ],
      "text/plain": [
       "   year       state  poverty_percent  median_income  average_score\n",
       "0  2019     Alabama             15.6        51771.0          230.0\n",
       "1  2019      Alaska             10.2        77203.0          232.0\n",
       "2  2019     Arizona             13.5        62027.0          238.0\n",
       "3  2019    Arkansas             16.0        49020.0          233.0\n",
       "4  2019  California             11.8        80423.0          235.0"
      ]
     },
     "execution_count": 70,
     "metadata": {},
     "output_type": "execute_result"
    }
   ],
   "source": [
    "grade_4_math.head()"
   ]
  },
  {
   "cell_type": "code",
   "execution_count": 71,
   "id": "5770182e",
   "metadata": {},
   "outputs": [
    {
     "data": {
      "text/html": [
       "<div>\n",
       "<style scoped>\n",
       "    .dataframe tbody tr th:only-of-type {\n",
       "        vertical-align: middle;\n",
       "    }\n",
       "\n",
       "    .dataframe tbody tr th {\n",
       "        vertical-align: top;\n",
       "    }\n",
       "\n",
       "    .dataframe thead th {\n",
       "        text-align: right;\n",
       "    }\n",
       "</style>\n",
       "<table border=\"1\" class=\"dataframe\">\n",
       "  <thead>\n",
       "    <tr style=\"text-align: right;\">\n",
       "      <th></th>\n",
       "      <th>year</th>\n",
       "      <th>poverty_percent</th>\n",
       "      <th>median_income</th>\n",
       "      <th>average_score</th>\n",
       "    </tr>\n",
       "  </thead>\n",
       "  <tbody>\n",
       "    <tr>\n",
       "      <th>count</th>\n",
       "      <td>561.000000</td>\n",
       "      <td>561.000000</td>\n",
       "      <td>561.000000</td>\n",
       "      <td>544.000000</td>\n",
       "    </tr>\n",
       "    <tr>\n",
       "      <th>mean</th>\n",
       "      <td>2008.636364</td>\n",
       "      <td>13.233155</td>\n",
       "      <td>50208.005348</td>\n",
       "      <td>236.474265</td>\n",
       "    </tr>\n",
       "    <tr>\n",
       "      <th>std</th>\n",
       "      <td>6.911664</td>\n",
       "      <td>3.313113</td>\n",
       "      <td>11678.155286</td>\n",
       "      <td>8.915982</td>\n",
       "    </tr>\n",
       "    <tr>\n",
       "      <th>min</th>\n",
       "      <td>1996.000000</td>\n",
       "      <td>5.600000</td>\n",
       "      <td>25760.000000</td>\n",
       "      <td>187.000000</td>\n",
       "    </tr>\n",
       "    <tr>\n",
       "      <th>25%</th>\n",
       "      <td>2003.000000</td>\n",
       "      <td>10.700000</td>\n",
       "      <td>41984.000000</td>\n",
       "      <td>232.000000</td>\n",
       "    </tr>\n",
       "    <tr>\n",
       "      <th>50%</th>\n",
       "      <td>2009.000000</td>\n",
       "      <td>12.700000</td>\n",
       "      <td>48325.000000</td>\n",
       "      <td>238.000000</td>\n",
       "    </tr>\n",
       "    <tr>\n",
       "      <th>75%</th>\n",
       "      <td>2015.000000</td>\n",
       "      <td>15.800000</td>\n",
       "      <td>56985.000000</td>\n",
       "      <td>242.250000</td>\n",
       "    </tr>\n",
       "    <tr>\n",
       "      <th>max</th>\n",
       "      <td>2019.000000</td>\n",
       "      <td>23.900000</td>\n",
       "      <td>90395.000000</td>\n",
       "      <td>253.000000</td>\n",
       "    </tr>\n",
       "  </tbody>\n",
       "</table>\n",
       "</div>"
      ],
      "text/plain": [
       "              year  poverty_percent  median_income  average_score\n",
       "count   561.000000       561.000000     561.000000     544.000000\n",
       "mean   2008.636364        13.233155   50208.005348     236.474265\n",
       "std       6.911664         3.313113   11678.155286       8.915982\n",
       "min    1996.000000         5.600000   25760.000000     187.000000\n",
       "25%    2003.000000        10.700000   41984.000000     232.000000\n",
       "50%    2009.000000        12.700000   48325.000000     238.000000\n",
       "75%    2015.000000        15.800000   56985.000000     242.250000\n",
       "max    2019.000000        23.900000   90395.000000     253.000000"
      ]
     },
     "execution_count": 71,
     "metadata": {},
     "output_type": "execute_result"
    }
   ],
   "source": [
    "grade_4_math.describe()"
   ]
  },
  {
   "cell_type": "code",
   "execution_count": 72,
   "id": "be5fe65c",
   "metadata": {},
   "outputs": [
    {
     "data": {
      "text/html": [
       "<div>\n",
       "<style scoped>\n",
       "    .dataframe tbody tr th:only-of-type {\n",
       "        vertical-align: middle;\n",
       "    }\n",
       "\n",
       "    .dataframe tbody tr th {\n",
       "        vertical-align: top;\n",
       "    }\n",
       "\n",
       "    .dataframe thead th {\n",
       "        text-align: right;\n",
       "    }\n",
       "</style>\n",
       "<table border=\"1\" class=\"dataframe\">\n",
       "  <thead>\n",
       "    <tr style=\"text-align: right;\">\n",
       "      <th></th>\n",
       "      <th>poverty_percent</th>\n",
       "      <th>average_score</th>\n",
       "    </tr>\n",
       "  </thead>\n",
       "  <tbody>\n",
       "    <tr>\n",
       "      <th>0</th>\n",
       "      <td>15.6</td>\n",
       "      <td>230.0</td>\n",
       "    </tr>\n",
       "    <tr>\n",
       "      <th>1</th>\n",
       "      <td>10.2</td>\n",
       "      <td>232.0</td>\n",
       "    </tr>\n",
       "    <tr>\n",
       "      <th>2</th>\n",
       "      <td>13.5</td>\n",
       "      <td>238.0</td>\n",
       "    </tr>\n",
       "    <tr>\n",
       "      <th>3</th>\n",
       "      <td>16.0</td>\n",
       "      <td>233.0</td>\n",
       "    </tr>\n",
       "    <tr>\n",
       "      <th>4</th>\n",
       "      <td>11.8</td>\n",
       "      <td>235.0</td>\n",
       "    </tr>\n",
       "    <tr>\n",
       "      <th>...</th>\n",
       "      <td>...</td>\n",
       "      <td>...</td>\n",
       "    </tr>\n",
       "    <tr>\n",
       "      <th>556</th>\n",
       "      <td>11.5</td>\n",
       "      <td>223.0</td>\n",
       "    </tr>\n",
       "    <tr>\n",
       "      <th>557</th>\n",
       "      <td>11.5</td>\n",
       "      <td>225.0</td>\n",
       "    </tr>\n",
       "    <tr>\n",
       "      <th>558</th>\n",
       "      <td>19.9</td>\n",
       "      <td>223.0</td>\n",
       "    </tr>\n",
       "    <tr>\n",
       "      <th>559</th>\n",
       "      <td>8.7</td>\n",
       "      <td>231.0</td>\n",
       "    </tr>\n",
       "    <tr>\n",
       "      <th>560</th>\n",
       "      <td>11.1</td>\n",
       "      <td>223.0</td>\n",
       "    </tr>\n",
       "  </tbody>\n",
       "</table>\n",
       "<p>561 rows × 2 columns</p>\n",
       "</div>"
      ],
      "text/plain": [
       "     poverty_percent  average_score\n",
       "0               15.6          230.0\n",
       "1               10.2          232.0\n",
       "2               13.5          238.0\n",
       "3               16.0          233.0\n",
       "4               11.8          235.0\n",
       "..               ...            ...\n",
       "556             11.5          223.0\n",
       "557             11.5          225.0\n",
       "558             19.9          223.0\n",
       "559              8.7          231.0\n",
       "560             11.1          223.0\n",
       "\n",
       "[561 rows x 2 columns]"
      ]
     },
     "execution_count": 72,
     "metadata": {},
     "output_type": "execute_result"
    }
   ],
   "source": [
    "# drop year, state, median income column\n",
    "score_vs_poverty = grade_4_math.drop(columns ='year')\n",
    "score_vs_poverty = score_vs_poverty.drop(columns ='state')\n",
    "score_vs_poverty = score_vs_poverty.drop(columns ='median_income')\n",
    "score_vs_poverty"
   ]
  },
  {
   "cell_type": "code",
   "execution_count": 73,
   "id": "9e300168",
   "metadata": {},
   "outputs": [
    {
     "data": {
      "text/plain": [
       "poverty_percent     0\n",
       "average_score      17\n",
       "dtype: int64"
      ]
     },
     "execution_count": 73,
     "metadata": {},
     "output_type": "execute_result"
    }
   ],
   "source": [
    "score_vs_poverty.isnull().sum()"
   ]
  },
  {
   "cell_type": "code",
   "execution_count": 74,
   "id": "78dcda38",
   "metadata": {},
   "outputs": [],
   "source": [
    "score_vs_poverty = score_vs_poverty.dropna()"
   ]
  },
  {
   "cell_type": "code",
   "execution_count": 75,
   "id": "35f7ff67",
   "metadata": {},
   "outputs": [
    {
     "data": {
      "text/plain": [
       "poverty_percent    0\n",
       "average_score      0\n",
       "dtype: int64"
      ]
     },
     "execution_count": 75,
     "metadata": {},
     "output_type": "execute_result"
    }
   ],
   "source": [
    "score_vs_poverty.isnull().sum()"
   ]
  },
  {
   "cell_type": "code",
   "execution_count": 76,
   "id": "6b165ac9",
   "metadata": {},
   "outputs": [
    {
     "data": {
      "text/html": [
       "<div>\n",
       "<style scoped>\n",
       "    .dataframe tbody tr th:only-of-type {\n",
       "        vertical-align: middle;\n",
       "    }\n",
       "\n",
       "    .dataframe tbody tr th {\n",
       "        vertical-align: top;\n",
       "    }\n",
       "\n",
       "    .dataframe thead th {\n",
       "        text-align: right;\n",
       "    }\n",
       "</style>\n",
       "<table border=\"1\" class=\"dataframe\">\n",
       "  <thead>\n",
       "    <tr style=\"text-align: right;\">\n",
       "      <th></th>\n",
       "      <th>poverty_percent</th>\n",
       "      <th>average_score</th>\n",
       "    </tr>\n",
       "  </thead>\n",
       "  <tbody>\n",
       "    <tr>\n",
       "      <th>0</th>\n",
       "      <td>15.6</td>\n",
       "      <td>230.0</td>\n",
       "    </tr>\n",
       "    <tr>\n",
       "      <th>1</th>\n",
       "      <td>10.2</td>\n",
       "      <td>232.0</td>\n",
       "    </tr>\n",
       "    <tr>\n",
       "      <th>2</th>\n",
       "      <td>13.5</td>\n",
       "      <td>238.0</td>\n",
       "    </tr>\n",
       "    <tr>\n",
       "      <th>3</th>\n",
       "      <td>16.0</td>\n",
       "      <td>233.0</td>\n",
       "    </tr>\n",
       "    <tr>\n",
       "      <th>4</th>\n",
       "      <td>11.8</td>\n",
       "      <td>235.0</td>\n",
       "    </tr>\n",
       "    <tr>\n",
       "      <th>...</th>\n",
       "      <td>...</td>\n",
       "      <td>...</td>\n",
       "    </tr>\n",
       "    <tr>\n",
       "      <th>556</th>\n",
       "      <td>11.5</td>\n",
       "      <td>223.0</td>\n",
       "    </tr>\n",
       "    <tr>\n",
       "      <th>557</th>\n",
       "      <td>11.5</td>\n",
       "      <td>225.0</td>\n",
       "    </tr>\n",
       "    <tr>\n",
       "      <th>558</th>\n",
       "      <td>19.9</td>\n",
       "      <td>223.0</td>\n",
       "    </tr>\n",
       "    <tr>\n",
       "      <th>559</th>\n",
       "      <td>8.7</td>\n",
       "      <td>231.0</td>\n",
       "    </tr>\n",
       "    <tr>\n",
       "      <th>560</th>\n",
       "      <td>11.1</td>\n",
       "      <td>223.0</td>\n",
       "    </tr>\n",
       "  </tbody>\n",
       "</table>\n",
       "<p>544 rows × 2 columns</p>\n",
       "</div>"
      ],
      "text/plain": [
       "     poverty_percent  average_score\n",
       "0               15.6          230.0\n",
       "1               10.2          232.0\n",
       "2               13.5          238.0\n",
       "3               16.0          233.0\n",
       "4               11.8          235.0\n",
       "..               ...            ...\n",
       "556             11.5          223.0\n",
       "557             11.5          225.0\n",
       "558             19.9          223.0\n",
       "559              8.7          231.0\n",
       "560             11.1          223.0\n",
       "\n",
       "[544 rows x 2 columns]"
      ]
     },
     "execution_count": 76,
     "metadata": {},
     "output_type": "execute_result"
    }
   ],
   "source": [
    "score_vs_poverty"
   ]
  },
  {
   "cell_type": "code",
   "execution_count": 77,
   "id": "b8e1b426",
   "metadata": {},
   "outputs": [
    {
     "name": "stdout",
     "output_type": "stream",
     "text": [
      "<class 'pandas.core.frame.DataFrame'>\n",
      "Int64Index: 544 entries, 0 to 560\n",
      "Data columns (total 2 columns):\n",
      " #   Column           Non-Null Count  Dtype  \n",
      "---  ------           --------------  -----  \n",
      " 0   poverty_percent  544 non-null    float64\n",
      " 1   average_score    544 non-null    float64\n",
      "dtypes: float64(2)\n",
      "memory usage: 12.8 KB\n"
     ]
    }
   ],
   "source": [
    "score_vs_poverty.info()"
   ]
  },
  {
   "cell_type": "code",
   "execution_count": 78,
   "id": "5e972fad",
   "metadata": {},
   "outputs": [],
   "source": [
    "# Divide the Data into Attributes & Labels\n",
    "\n",
    "x = score_vs_poverty.iloc[:, :-1].values    \n",
    "y = score_vs_poverty.iloc[:, 1].values"
   ]
  },
  {
   "cell_type": "code",
   "execution_count": 79,
   "id": "b22614f6",
   "metadata": {},
   "outputs": [],
   "source": [
    "# Split Data into Training & Test Sets.\n",
    "\n",
    "from sklearn.model_selection import train_test_split\n",
    "x_train, x_test, y_train, y_test = train_test_split(x, y, random_state = 0)"
   ]
  },
  {
   "cell_type": "code",
   "execution_count": 80,
   "id": "5be14623",
   "metadata": {},
   "outputs": [
    {
     "data": {
      "text/plain": [
       "LinearRegression()"
      ]
     },
     "execution_count": 80,
     "metadata": {},
     "output_type": "execute_result"
    }
   ],
   "source": [
    "# Train the Algorithm.\n",
    "\n",
    "from sklearn.linear_model import LinearRegression  \n",
    "regression = LinearRegression()  \n",
    "regression.fit(x_train, y_train) "
   ]
  },
  {
   "cell_type": "code",
   "execution_count": 81,
   "id": "4bca013c",
   "metadata": {},
   "outputs": [
    {
     "data": {
      "image/png": "[encoded data removed]",
      "text/plain": [
       "<Figure size 432x288 with 1 Axes>"
      ]
     },
     "metadata": {
      "needs_background": "light"
     },
     "output_type": "display_data"
    }
   ],
   "source": [
    "# Plotting the regression line\n",
    "line = regression.coef_ * x + regression.intercept_\n",
    "\n",
    "# Plotting for the test data\n",
    "plt.scatter(x, y)\n",
    "plt.plot(x, line);\n",
    "plt.show()"
   ]
  },
  {
   "cell_type": "code",
   "execution_count": 82,
   "id": "13d46288",
   "metadata": {},
   "outputs": [
    {
     "name": "stdout",
     "output_type": "stream",
     "text": [
      "[[16.3]\n",
      " [10.7]\n",
      " [ 9.4]\n",
      " [10.8]\n",
      " [ 6.9]\n",
      " [10.4]\n",
      " [11.1]\n",
      " [17.6]\n",
      " [15.6]\n",
      " [11.5]\n",
      " [ 9.4]\n",
      " [12.8]\n",
      " [15.8]\n",
      " [11.5]\n",
      " [14.7]\n",
      " [16.7]\n",
      " [15. ]\n",
      " [10.9]\n",
      " [ 9.6]\n",
      " [15. ]\n",
      " [14. ]\n",
      " [15.6]\n",
      " [12.3]\n",
      " [10.3]\n",
      " [11.5]\n",
      " [10.7]\n",
      " [15.5]\n",
      " [20.9]\n",
      " [18.9]\n",
      " [12.9]\n",
      " [10.3]\n",
      " [11.6]\n",
      " [14. ]\n",
      " [10.7]\n",
      " [11.6]\n",
      " [11.6]\n",
      " [11. ]\n",
      " [14.9]\n",
      " [12. ]\n",
      " [12.2]\n",
      " [16. ]\n",
      " [10.6]\n",
      " [13.1]\n",
      " [13.9]\n",
      " [10.1]\n",
      " [10.1]\n",
      " [ 9. ]\n",
      " [14.2]\n",
      " [ 8.8]\n",
      " [10.7]\n",
      " [ 7.3]\n",
      " [15.8]\n",
      " [ 7.6]\n",
      " [13. ]\n",
      " [11. ]\n",
      " [15.9]\n",
      " [10.2]\n",
      " [14.8]\n",
      " [ 9.8]\n",
      " [12.7]\n",
      " [12.6]\n",
      " [17.1]\n",
      " [14.5]\n",
      " [ 9.9]\n",
      " [10.6]\n",
      " [16.8]\n",
      " [ 9.5]\n",
      " [13.3]\n",
      " [16.6]\n",
      " [10.8]\n",
      " [14.8]\n",
      " [18.5]\n",
      " [11.5]\n",
      " [19.9]\n",
      " [17.9]\n",
      " [16.1]\n",
      " [13.2]\n",
      " [12.5]\n",
      " [12.2]\n",
      " [14.1]\n",
      " [ 9.9]\n",
      " [17.5]\n",
      " [12. ]\n",
      " [12.3]\n",
      " [14.3]\n",
      " [10.6]\n",
      " [12.3]\n",
      " [19. ]\n",
      " [11.2]\n",
      " [18.4]\n",
      " [13. ]\n",
      " [10.8]\n",
      " [17.5]\n",
      " [13.2]\n",
      " [ 8.5]\n",
      " [10.2]\n",
      " [15. ]\n",
      " [11. ]\n",
      " [ 8.6]\n",
      " [11.4]\n",
      " [16.8]\n",
      " [18.3]\n",
      " [12.6]\n",
      " [16. ]\n",
      " [13.4]\n",
      " [10.8]\n",
      " [12.4]\n",
      " [13.5]\n",
      " [18.6]\n",
      " [19.9]\n",
      " [ 9.5]\n",
      " [21. ]\n",
      " [ 9. ]\n",
      " [18.7]\n",
      " [17.6]\n",
      " [17.3]\n",
      " [17. ]\n",
      " [10.8]\n",
      " [ 9.9]\n",
      " [13.5]\n",
      " [10.6]\n",
      " [17.2]\n",
      " [13.6]\n",
      " [17. ]\n",
      " [11.7]\n",
      " [17.3]\n",
      " [13.3]\n",
      " [10.4]\n",
      " [22.1]\n",
      " [14.3]\n",
      " [ 9.4]\n",
      " [13.3]\n",
      " [12.1]\n",
      " [ 9.4]\n",
      " [14.1]\n",
      " [11.2]]\n"
     ]
    }
   ],
   "source": [
    "# Predict Scores for the Model.\n",
    "\n",
    "print(x_test) \n",
    "y_pred = regression.predict(x_test)\n"
   ]
  },
  {
   "cell_type": "code",
   "execution_count": 83,
   "id": "cdec37c5",
   "metadata": {},
   "outputs": [
    {
     "data": {
      "text/html": [
       "<div>\n",
       "<style scoped>\n",
       "    .dataframe tbody tr th:only-of-type {\n",
       "        vertical-align: middle;\n",
       "    }\n",
       "\n",
       "    .dataframe tbody tr th {\n",
       "        vertical-align: top;\n",
       "    }\n",
       "\n",
       "    .dataframe thead th {\n",
       "        text-align: right;\n",
       "    }\n",
       "</style>\n",
       "<table border=\"1\" class=\"dataframe\">\n",
       "  <thead>\n",
       "    <tr style=\"text-align: right;\">\n",
       "      <th></th>\n",
       "      <th>Actual Scores</th>\n",
       "      <th>Predicted Scores</th>\n",
       "    </tr>\n",
       "  </thead>\n",
       "  <tbody>\n",
       "    <tr>\n",
       "      <th>0</th>\n",
       "      <td>244.0</td>\n",
       "      <td>234.058465</td>\n",
       "    </tr>\n",
       "    <tr>\n",
       "      <th>1</th>\n",
       "      <td>238.0</td>\n",
       "      <td>238.863012</td>\n",
       "    </tr>\n",
       "    <tr>\n",
       "      <th>2</th>\n",
       "      <td>220.0</td>\n",
       "      <td>239.978353</td>\n",
       "    </tr>\n",
       "    <tr>\n",
       "      <th>3</th>\n",
       "      <td>243.0</td>\n",
       "      <td>238.777216</td>\n",
       "    </tr>\n",
       "    <tr>\n",
       "      <th>4</th>\n",
       "      <td>234.0</td>\n",
       "      <td>242.123240</td>\n",
       "    </tr>\n",
       "    <tr>\n",
       "      <th>...</th>\n",
       "      <td>...</td>\n",
       "      <td>...</td>\n",
       "    </tr>\n",
       "    <tr>\n",
       "      <th>131</th>\n",
       "      <td>230.0</td>\n",
       "      <td>236.632329</td>\n",
       "    </tr>\n",
       "    <tr>\n",
       "      <th>132</th>\n",
       "      <td>241.0</td>\n",
       "      <td>237.661875</td>\n",
       "    </tr>\n",
       "    <tr>\n",
       "      <th>133</th>\n",
       "      <td>228.0</td>\n",
       "      <td>239.978353</td>\n",
       "    </tr>\n",
       "    <tr>\n",
       "      <th>134</th>\n",
       "      <td>241.0</td>\n",
       "      <td>235.945965</td>\n",
       "    </tr>\n",
       "    <tr>\n",
       "      <th>135</th>\n",
       "      <td>239.0</td>\n",
       "      <td>238.434034</td>\n",
       "    </tr>\n",
       "  </tbody>\n",
       "</table>\n",
       "<p>136 rows × 2 columns</p>\n",
       "</div>"
      ],
      "text/plain": [
       "     Actual Scores  Predicted Scores\n",
       "0            244.0        234.058465\n",
       "1            238.0        238.863012\n",
       "2            220.0        239.978353\n",
       "3            243.0        238.777216\n",
       "4            234.0        242.123240\n",
       "..             ...               ...\n",
       "131          230.0        236.632329\n",
       "132          241.0        237.661875\n",
       "133          228.0        239.978353\n",
       "134          241.0        235.945965\n",
       "135          239.0        238.434034\n",
       "\n",
       "[136 rows x 2 columns]"
      ]
     },
     "execution_count": 83,
     "metadata": {},
     "output_type": "execute_result"
    }
   ],
   "source": [
    "# Compare Actual Data vs Predicted Data\n",
    "\n",
    "score_vs_poverty = pd.DataFrame({\"Actual Scores\": y_test, \"Predicted Scores\": y_pred})\n",
    "score_vs_poverty"
   ]
  },
  {
   "cell_type": "code",
   "execution_count": 84,
   "id": "db64362c",
   "metadata": {},
   "outputs": [
    {
     "data": {
      "text/html": [
       "<div>\n",
       "<style scoped>\n",
       "    .dataframe tbody tr th:only-of-type {\n",
       "        vertical-align: middle;\n",
       "    }\n",
       "\n",
       "    .dataframe tbody tr th {\n",
       "        vertical-align: top;\n",
       "    }\n",
       "\n",
       "    .dataframe thead th {\n",
       "        text-align: right;\n",
       "    }\n",
       "</style>\n",
       "<table border=\"1\" class=\"dataframe\">\n",
       "  <thead>\n",
       "    <tr style=\"text-align: right;\">\n",
       "      <th></th>\n",
       "      <th>Poverty Percentage</th>\n",
       "      <th>Actual Scores</th>\n",
       "      <th>Predicted Scores</th>\n",
       "    </tr>\n",
       "  </thead>\n",
       "  <tbody>\n",
       "    <tr>\n",
       "      <th>0</th>\n",
       "      <td>16.3</td>\n",
       "      <td>244.0</td>\n",
       "      <td>234.058465</td>\n",
       "    </tr>\n",
       "    <tr>\n",
       "      <th>1</th>\n",
       "      <td>10.7</td>\n",
       "      <td>238.0</td>\n",
       "      <td>238.863012</td>\n",
       "    </tr>\n",
       "    <tr>\n",
       "      <th>2</th>\n",
       "      <td>9.4</td>\n",
       "      <td>220.0</td>\n",
       "      <td>239.978353</td>\n",
       "    </tr>\n",
       "    <tr>\n",
       "      <th>3</th>\n",
       "      <td>10.8</td>\n",
       "      <td>243.0</td>\n",
       "      <td>238.777216</td>\n",
       "    </tr>\n",
       "    <tr>\n",
       "      <th>4</th>\n",
       "      <td>6.9</td>\n",
       "      <td>234.0</td>\n",
       "      <td>242.123240</td>\n",
       "    </tr>\n",
       "    <tr>\n",
       "      <th>...</th>\n",
       "      <td>...</td>\n",
       "      <td>...</td>\n",
       "      <td>...</td>\n",
       "    </tr>\n",
       "    <tr>\n",
       "      <th>131</th>\n",
       "      <td>13.3</td>\n",
       "      <td>230.0</td>\n",
       "      <td>236.632329</td>\n",
       "    </tr>\n",
       "    <tr>\n",
       "      <th>132</th>\n",
       "      <td>12.1</td>\n",
       "      <td>241.0</td>\n",
       "      <td>237.661875</td>\n",
       "    </tr>\n",
       "    <tr>\n",
       "      <th>133</th>\n",
       "      <td>9.4</td>\n",
       "      <td>228.0</td>\n",
       "      <td>239.978353</td>\n",
       "    </tr>\n",
       "    <tr>\n",
       "      <th>134</th>\n",
       "      <td>14.1</td>\n",
       "      <td>241.0</td>\n",
       "      <td>235.945965</td>\n",
       "    </tr>\n",
       "    <tr>\n",
       "      <th>135</th>\n",
       "      <td>11.2</td>\n",
       "      <td>239.0</td>\n",
       "      <td>238.434034</td>\n",
       "    </tr>\n",
       "  </tbody>\n",
       "</table>\n",
       "<p>136 rows × 3 columns</p>\n",
       "</div>"
      ],
      "text/plain": [
       "     Poverty Percentage  Actual Scores  Predicted Scores\n",
       "0                  16.3          244.0        234.058465\n",
       "1                  10.7          238.0        238.863012\n",
       "2                   9.4          220.0        239.978353\n",
       "3                  10.8          243.0        238.777216\n",
       "4                   6.9          234.0        242.123240\n",
       "..                  ...            ...               ...\n",
       "131                13.3          230.0        236.632329\n",
       "132                12.1          241.0        237.661875\n",
       "133                 9.4          228.0        239.978353\n",
       "134                14.1          241.0        235.945965\n",
       "135                11.2          239.0        238.434034\n",
       "\n",
       "[136 rows x 3 columns]"
      ]
     },
     "execution_count": 84,
     "metadata": {},
     "output_type": "execute_result"
    }
   ],
   "source": [
    "pd.DataFrame(np.c_[x_test,y_test,y_pred], columns=[\"Poverty Percentage\",\"Actual Scores\",\"Predicted Scores\"])"
   ]
  },
  {
   "cell_type": "code",
   "execution_count": 85,
   "id": "1b21a508",
   "metadata": {},
   "outputs": [
    {
     "name": "stdout",
     "output_type": "stream",
     "text": [
      "Poverty Percentage = [[25.0]]\n",
      "Predicted Score = 226.5942580288717\n"
     ]
    }
   ],
   "source": [
    "# Test with Custom Data.\n",
    "\n",
    "poverty_percentage = [[25.0]]\n",
    "prediction = regression.predict(poverty_percentage)\n",
    "print(\"Poverty Percentage = {}\".format(poverty_percentage))\n",
    "print(\"Predicted Score = {}\".format(prediction[0]))"
   ]
  },
  {
   "cell_type": "code",
   "execution_count": 86,
   "id": "14de91f9",
   "metadata": {},
   "outputs": [
    {
     "name": "stdout",
     "output_type": "stream",
     "text": [
      "Poverty Percentage = [[5.0]]\n",
      "Predicted Score = 243.7533541879368\n"
     ]
    }
   ],
   "source": [
    "# Test with Custom Data.\n",
    "\n",
    "poverty_percentage = [[5.0]]\n",
    "prediction = regression.predict(poverty_percentage)\n",
    "print(\"Poverty Percentage = {}\".format(poverty_percentage))\n",
    "print(\"Predicted Score = {}\".format(prediction[0]))"
   ]
  },
  {
   "cell_type": "code",
   "execution_count": 87,
   "id": "4374fd9b",
   "metadata": {},
   "outputs": [
    {
     "name": "stdout",
     "output_type": "stream",
     "text": [
      "Mean Absolute Error: 6.639496257189555\n"
     ]
    }
   ],
   "source": [
    "# Evaluate Performance of Algorithm.\n",
    "\n",
    "from sklearn import metrics  \n",
    "print('Mean Absolute Error:', \n",
    "      metrics.mean_absolute_error(y_test, y_pred))"
   ]
  },
  {
   "cell_type": "code",
   "execution_count": null,
   "id": "86eb7ac6",
   "metadata": {},
   "outputs": [],
   "source": []
  }
 ],
 "metadata": {
  "kernelspec": {
   "display_name": "Python 3",
   "language": "python",
   "name": "python3"
  },
  "language_info": {
   "codemirror_mode": {
    "name": "ipython",
    "version": 3
   },
   "file_extension": ".py",
   "mimetype": "text/x-python",
   "name": "python",
   "nbconvert_exporter": "python",
   "pygments_lexer": "ipython3",
   "version": "3.8.8"
  }
 },
 "nbformat": 4,
 "nbformat_minor": 5
}
